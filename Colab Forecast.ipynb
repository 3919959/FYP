{
  "cells": [
    {
      "cell_type": "code",
      "execution_count": 112,
      "metadata": {
        "id": "jQbVzIjniLfC",
        "colab": {
          "base_uri": "https://localhost:8080/"
        },
        "outputId": "627f37e5-5aeb-455c-9503-4858df0936a2"
      },
      "outputs": [
        {
          "output_type": "stream",
          "name": "stdout",
          "text": [
            "Drive already mounted at /content/gdrive; to attempt to forcibly remount, call drive.mount(\"/content/gdrive\", force_remount=True).\n"
          ]
        }
      ],
      "source": [
        "from google.colab import drive\n",
        "from google.colab import auth\n",
        "import gspread\n",
        "from google.auth import default\n",
        "from keras import models\n",
        "from keras.models import load_model\n",
        "import pandas as pd\n",
        "from sklearn.preprocessing import MinMaxScaler\n",
        "import numpy as np\n",
        "\n",
        "drive.mount('/content/gdrive')"
      ]
    },
    {
      "cell_type": "code",
      "execution_count": 113,
      "metadata": {
        "id": "RLQvuB_VDfMI"
      },
      "outputs": [],
      "source": [
        "auth.authenticate_user()\n",
        "creds, _ = default()\n",
        "gc = gspread.authorize(creds)"
      ]
    },
    {
      "cell_type": "code",
      "execution_count": 114,
      "metadata": {
        "id": "Q1eap0yBDkTO"
      },
      "outputs": [],
      "source": [
        "worksheet = gc.open('Goldpricedatabase').sheet1\n",
        "rows = worksheet.get_all_values()\n",
        "df = pd.DataFrame(rows)"
      ]
    },
    {
      "cell_type": "code",
      "execution_count": 115,
      "metadata": {
        "id": "Rq_71919Elj_"
      },
      "outputs": [],
      "source": [
        "df_values = df.iloc[:, [0, 4]]"
      ]
    },
    {
      "cell_type": "code",
      "source": [
        "df_values.columns = ['Date', 'Value']"
      ],
      "metadata": {
        "id": "pidazlbbKCSC"
      },
      "execution_count": 116,
      "outputs": []
    },
    {
      "cell_type": "code",
      "source": [
        "df_values.to_csv('LatestValue.csv', index=False)"
      ],
      "metadata": {
        "id": "AVfdZVs8Ksu9"
      },
      "execution_count": 117,
      "outputs": []
    },
    {
      "cell_type": "code",
      "source": [
        "df = pd.read_csv(\"LatestValue.csv\")"
      ],
      "metadata": {
        "id": "mJ6p_1k_n4OT"
      },
      "execution_count": 118,
      "outputs": []
    },
    {
      "cell_type": "code",
      "source": [
        "df = df.dropna()"
      ],
      "metadata": {
        "id": "G4-VRm7bTRG3"
      },
      "execution_count": 119,
      "outputs": []
    },
    {
      "cell_type": "code",
      "source": [
        "model = load_model('/content/gdrive/MyDrive/Bestmodel')"
      ],
      "metadata": {
        "id": "Dy1ifLbGfKxR"
      },
      "execution_count": 120,
      "outputs": []
    },
    {
      "cell_type": "code",
      "source": [
        "scaler = MinMaxScaler(feature_range=(0, 1))\n",
        "scaled_data = scaler.fit_transform(df['Value'].values.reshape(-1, 1))\n",
        "\n",
        "lookback = 200\n",
        "X_forecast = scaled_data[-lookback:] \n",
        "\n",
        "horizon = 7\n",
        "\n",
        "forecasted_values = []\n",
        "\n",
        "for i in range(horizon):\n",
        "    X_forecast_reshaped = X_forecast.reshape(1, -1, 1)\n",
        "    prediction = model.predict(X_forecast_reshaped)\n",
        "    forecasted_values.append(prediction[0, 0])\n",
        "    X_forecast = np.append(X_forecast, prediction, axis=0)\n",
        "    X_forecast = X_forecast[1:].reshape(lookback, 1)\n",
        "\n",
        "forecasted_values = np.array(forecasted_values).reshape(-1, 1)\n",
        "forecasted_values = scaler.inverse_transform(forecasted_values)\n",
        "\n",
        "last_date = pd.to_datetime(df['Date'].iloc[-1])\n",
        "forecasted_dates = pd.date_range(start=last_date + pd.DateOffset(days=1), periods=horizon).strftime('%Y-%m-%d').tolist()\n",
        "\n",
        "forecasted_df = pd.DataFrame({'Date': forecasted_dates, 'Value': forecasted_values.flatten(), 'Predictions': forecasted_values.flatten()})\n",
        "\n",
        "df = pd.concat([df, forecasted_df], ignore_index=True)\n",
        "\n",
        "# Print the forecasted values\n",
        "print(\"Forecasted Values:\")\n",
        "print(df[df['Date'].isin(forecasted_dates)][['Date', 'Predictions']])\n",
        "\n"
      ],
      "metadata": {
        "colab": {
          "base_uri": "https://localhost:8080/"
        },
        "id": "OO8GUeFFMRK5",
        "outputId": "fb6db553-8c02-4667-9d5b-726a607157e3"
      },
      "execution_count": 121,
      "outputs": [
        {
          "output_type": "stream",
          "name": "stdout",
          "text": [
            "1/1 [==============================] - 1s 602ms/step\n",
            "1/1 [==============================] - 0s 92ms/step\n",
            "1/1 [==============================] - 0s 53ms/step\n",
            "1/1 [==============================] - 0s 37ms/step\n",
            "1/1 [==============================] - 0s 63ms/step\n",
            "1/1 [==============================] - 0s 60ms/step\n",
            "1/1 [==============================] - 0s 91ms/step\n",
            "Forecasted Values:\n",
            "           Date  Predictions\n",
            "208  2023-05-28  1952.766602\n",
            "209  2023-05-29  1949.733154\n",
            "210  2023-05-30  1947.358398\n",
            "211  2023-05-31  1945.480469\n",
            "212  2023-06-01  1943.914429\n",
            "213  2023-06-02  1942.536499\n",
            "214  2023-06-03  1941.268066\n"
          ]
        }
      ]
    },
    {
      "cell_type": "code",
      "source": [
        "forecasted_df.to_csv('Onestepdata.csv', index=False)"
      ],
      "metadata": {
        "id": "o9dQPjh8Lcjk"
      },
      "execution_count": 122,
      "outputs": []
    },
    {
      "cell_type": "code",
      "source": [
        "ws = gc.open('OneStep').sheet1"
      ],
      "metadata": {
        "id": "_tbQ88guEODG"
      },
      "execution_count": 123,
      "outputs": []
    },
    {
      "cell_type": "code",
      "source": [
        "onestepf = forecasted_df.values.tolist()\n",
        "\n",
        "ws.update('A1', onestepf)\n",
        "\n",
        "print(\"DataFrame written successfully to the Google Sheet!\")"
      ],
      "metadata": {
        "colab": {
          "base_uri": "https://localhost:8080/"
        },
        "id": "ypn_Rb_xrCBX",
        "outputId": "abb1dcc9-018d-4203-a065-22761cc387a0"
      },
      "execution_count": 124,
      "outputs": [
        {
          "output_type": "stream",
          "name": "stdout",
          "text": [
            "DataFrame written successfully to the Google Sheet!\n"
          ]
        }
      ]
    },
    {
      "cell_type": "code",
      "source": [
        "df = pd.read_csv(\"LatestValue.csv\")\n",
        "pd.read_csv('LatestValue.csv')\n",
        "df = df.dropna()\n",
        "print(df)"
      ],
      "metadata": {
        "colab": {
          "base_uri": "https://localhost:8080/"
        },
        "id": "UqWiS41fT7eF",
        "outputId": "a1dc9469-30fd-4842-dc13-5664cb8ad8be"
      },
      "execution_count": 125,
      "outputs": [
        {
          "output_type": "stream",
          "name": "stdout",
          "text": [
            "           Date        Value\n",
            "1    11/01/2022  1647.124583\n",
            "2    11/02/2022  1633.907386\n",
            "3    11/03/2022  1629.706667\n",
            "4    11/04/2022  1681.325000\n",
            "5    11/05/2022  1681.325000\n",
            "..          ...          ...\n",
            "204   5/23/2023  1962.300000\n",
            "205   5/24/2023  1973.264740\n",
            "206   5/25/2023  1958.127253\n",
            "207   5/26/2023  1950.786884\n",
            "208   5/27/2023  1946.997058\n",
            "\n",
            "[208 rows x 2 columns]\n"
          ]
        }
      ]
    },
    {
      "cell_type": "code",
      "source": [
        "scaler = MinMaxScaler(feature_range=(0, 1))\n",
        "scaled_data = scaler.fit_transform(df['Value'].values.reshape(-1, 1))\n",
        "\n",
        "lookback = 200\n",
        "X_forecast = scaled_data[-lookback:] \n",
        "\n",
        "horizon = 30\n",
        "\n",
        "forecasted_values = []\n",
        "\n",
        "for i in range(horizon):\n",
        "    X_forecast_reshaped = X_forecast.reshape(1, -1, 1)\n",
        "    prediction = model.predict(X_forecast_reshaped)\n",
        "    forecasted_values.append(prediction[0, 0])\n",
        "    X_forecast = np.append(X_forecast, prediction, axis=0)\n",
        "    X_forecast = X_forecast[1:].reshape(lookback, 1)\n",
        "\n",
        "forecasted_values = np.array(forecasted_values).reshape(-1, 1)\n",
        "forecasted_values = scaler.inverse_transform(forecasted_values)\n",
        "\n",
        "last_date = pd.to_datetime(df['Date'].iloc[-1])\n",
        "forecasted_dates = pd.date_range(start=last_date + pd.DateOffset(days=1), periods=horizon).strftime('%Y-%m-%d').tolist()\n",
        "\n",
        "forecasted_df = pd.DataFrame({'Date': forecasted_dates, 'Value': forecasted_values.flatten(), 'Predictions': forecasted_values.flatten()})\n",
        "\n",
        "df = pd.concat([df, forecasted_df], ignore_index=True)\n",
        "\n",
        "# Print the forecasted values\n",
        "print(\"Forecasted Values for 1 Month Ahead:\")\n",
        "print(df[df['Date'].isin(forecasted_dates)][['Date', 'Predictions']])\n",
        "\n"
      ],
      "metadata": {
        "colab": {
          "base_uri": "https://localhost:8080/"
        },
        "outputId": "6b950033-e356-42f9-ca1a-a9833566488c",
        "id": "qxyd4ZRwlaSn"
      },
      "execution_count": 126,
      "outputs": [
        {
          "output_type": "stream",
          "name": "stdout",
          "text": [
            "1/1 [==============================] - 0s 34ms/step\n",
            "1/1 [==============================] - 0s 37ms/step\n",
            "1/1 [==============================] - 0s 29ms/step\n",
            "1/1 [==============================] - 0s 36ms/step\n",
            "1/1 [==============================] - 0s 37ms/step\n",
            "1/1 [==============================] - 0s 39ms/step\n",
            "1/1 [==============================] - 0s 22ms/step\n",
            "1/1 [==============================] - 0s 26ms/step\n",
            "1/1 [==============================] - 0s 23ms/step\n",
            "1/1 [==============================] - 0s 37ms/step\n",
            "1/1 [==============================] - 0s 22ms/step\n",
            "1/1 [==============================] - 0s 20ms/step\n",
            "1/1 [==============================] - 0s 29ms/step\n",
            "1/1 [==============================] - 0s 23ms/step\n",
            "1/1 [==============================] - 0s 23ms/step\n",
            "1/1 [==============================] - 0s 23ms/step\n",
            "1/1 [==============================] - 0s 21ms/step\n",
            "1/1 [==============================] - 0s 26ms/step\n",
            "1/1 [==============================] - 0s 23ms/step\n",
            "1/1 [==============================] - 0s 22ms/step\n",
            "1/1 [==============================] - 0s 24ms/step\n",
            "1/1 [==============================] - 0s 24ms/step\n",
            "1/1 [==============================] - 0s 23ms/step\n",
            "1/1 [==============================] - 0s 22ms/step\n",
            "1/1 [==============================] - 0s 26ms/step\n",
            "1/1 [==============================] - 0s 31ms/step\n",
            "1/1 [==============================] - 0s 27ms/step\n",
            "1/1 [==============================] - 0s 24ms/step\n",
            "1/1 [==============================] - 0s 24ms/step\n",
            "1/1 [==============================] - 0s 21ms/step\n",
            "Forecasted Values for 1 Month Ahead:\n",
            "           Date  Predictions\n",
            "208  2023-05-28  1952.766602\n",
            "209  2023-05-29  1949.733154\n",
            "210  2023-05-30  1947.358398\n",
            "211  2023-05-31  1945.480469\n",
            "212  2023-06-01  1943.914429\n",
            "213  2023-06-02  1942.536499\n",
            "214  2023-06-03  1941.268066\n",
            "215  2023-06-04  1940.062744\n",
            "216  2023-06-05  1938.892822\n",
            "217  2023-06-06  1937.744629\n",
            "218  2023-06-07  1936.610840\n",
            "219  2023-06-08  1935.488892\n",
            "220  2023-06-09  1934.377563\n",
            "221  2023-06-10  1933.277222\n",
            "222  2023-06-11  1932.188110\n",
            "223  2023-06-12  1931.110718\n",
            "224  2023-06-13  1930.045166\n",
            "225  2023-06-14  1928.990967\n",
            "226  2023-06-15  1927.948486\n",
            "227  2023-06-16  1926.917236\n",
            "228  2023-06-17  1925.896729\n",
            "229  2023-06-18  1924.886353\n",
            "230  2023-06-19  1923.886108\n",
            "231  2023-06-20  1922.895264\n",
            "232  2023-06-21  1921.913086\n",
            "233  2023-06-22  1920.939697\n",
            "234  2023-06-23  1919.974487\n",
            "235  2023-06-24  1919.016846\n",
            "236  2023-06-25  1918.066772\n",
            "237  2023-06-26  1917.123901\n"
          ]
        }
      ]
    },
    {
      "cell_type": "code",
      "source": [
        "forecasted_df.to_csv('horizondata.csv', index=False)"
      ],
      "metadata": {
        "id": "QsP4VjHdLU-d"
      },
      "execution_count": 127,
      "outputs": []
    },
    {
      "cell_type": "code",
      "source": [
        "ws = gc.open('Horizon').sheet1"
      ],
      "metadata": {
        "id": "l4sUm63PJb1P"
      },
      "execution_count": 128,
      "outputs": []
    },
    {
      "cell_type": "code",
      "source": [
        "horizonf = forecasted_df.values.tolist()\n",
        "ws.update('A1', horizonf)\n",
        "print(\"DataFrame written successfully to the Google Sheet!\")"
      ],
      "metadata": {
        "colab": {
          "base_uri": "https://localhost:8080/"
        },
        "id": "7B4IGukPBmKz",
        "outputId": "fd4ba794-5843-4813-a56f-c99cce1e80e3"
      },
      "execution_count": 129,
      "outputs": [
        {
          "output_type": "stream",
          "name": "stdout",
          "text": [
            "DataFrame written successfully to the Google Sheet!\n"
          ]
        }
      ]
    }
  ],
  "metadata": {
    "colab": {
      "provenance": []
    },
    "kernelspec": {
      "display_name": "Python 3",
      "name": "python3"
    },
    "language_info": {
      "name": "python"
    }
  },
  "nbformat": 4,
  "nbformat_minor": 0
}